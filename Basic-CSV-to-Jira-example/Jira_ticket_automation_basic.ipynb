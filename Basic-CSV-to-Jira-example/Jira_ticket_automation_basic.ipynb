{
 "cells": [
  {
   "cell_type": "code",
   "execution_count": 1,
   "id": "aef8e58e",
   "metadata": {},
   "outputs": [],
   "source": [
    "#!pip install jira\n"
   ]
  },
  {
   "cell_type": "code",
   "execution_count": 2,
   "id": "ec405a18",
   "metadata": {},
   "outputs": [],
   "source": [
    "from jira import JIRA\n",
    "import pandas"
   ]
  },
  {
   "cell_type": "code",
   "execution_count": 15,
   "id": "50f212de",
   "metadata": {},
   "outputs": [],
   "source": [
    "#Variables\n",
    "jiraUrl = \"https://XXXX.atlassian.net/\"\n",
    "jiraUserEmail = \"XXX@XXX.XXX\"\n",
    "jiraAPIKey = \"XXX\" #https://id.atlassian.com/manage-profile/security/api-tokens\n",
    "jiraUserAssignee = \"XXXXXXXXXXXXXXXXXXXXXXXX\"\n",
    "projectName = \"DEV\"\n",
    "issueType = \"Story\"\n",
    "epicName = \"DEV-13\""
   ]
  },
  {
   "cell_type": "code",
   "execution_count": 4,
   "id": "998ade3f",
   "metadata": {},
   "outputs": [],
   "source": [
    "#Connecting to Jira cloud instance\n",
    "auth_jira = JIRA(server=jiraUrl)\n",
    "auth_jira = JIRA(server=jiraUrl,basic_auth=(jiraUserEmail, jiraAPIKey))"
   ]
  },
  {
   "cell_type": "code",
   "execution_count": 5,
   "id": "99a48c7c",
   "metadata": {},
   "outputs": [
    {
     "name": "stdout",
     "output_type": "stream",
     "text": [
      "Test issue\n"
     ]
    }
   ],
   "source": [
    "#Test connection\n",
    "issue = auth_jira.issue(\"DEV-1\")\n",
    "\n",
    "summary = issue.fields.summary         # 'Field level security permissions'\n",
    "votes = issue.fields.votes.votes       # 440 (at least)\n",
    "\n",
    "print(summary)"
   ]
  },
  {
   "cell_type": "markdown",
   "id": "e4bfdda3",
   "metadata": {},
   "source": [
    "# Search a ticket"
   ]
  },
  {
   "cell_type": "code",
   "execution_count": 6,
   "id": "a1c8f0ab",
   "metadata": {},
   "outputs": [
    {
     "data": {
      "text/plain": [
       "'project = DEV AND summary ~ \"Test issue\" order by created DESC'"
      ]
     },
     "execution_count": 6,
     "metadata": {},
     "output_type": "execute_result"
    }
   ],
   "source": [
    "searchString = \"project = DEV AND summary ~ \" + \"\\\"\" + summary +\"\\\" \" + \"order by created DESC\"\n",
    "searchString"
   ]
  },
  {
   "cell_type": "code",
   "execution_count": 7,
   "id": "0c431fcc",
   "metadata": {},
   "outputs": [
    {
     "data": {
      "text/plain": [
       "[<JIRA Issue: key='DEV-1', id='10000'>]"
      ]
     },
     "execution_count": 7,
     "metadata": {},
     "output_type": "execute_result"
    }
   ],
   "source": [
    "issues_in_proj = auth_jira.search_issues(searchString)\n",
    "issues_in_proj"
   ]
  },
  {
   "cell_type": "markdown",
   "id": "f515ee4e",
   "metadata": {},
   "source": [
    "# Create a new ticket"
   ]
  },
  {
   "cell_type": "code",
   "execution_count": 8,
   "id": "a74ea0aa",
   "metadata": {},
   "outputs": [],
   "source": [
    "def createJiraTicket(ticketDescription, ticketName, issuetype=issueType, Project=projectName):\n",
    "    new_issue = auth_jira.create_issue(project=Project, summary=ticketName,\n",
    "                              description=ticketDescription, issuetype={'name': issuetype})\n",
    "    return new_issue"
   ]
  },
  {
   "cell_type": "markdown",
   "id": "346a8f31",
   "metadata": {},
   "source": [
    "# Update a ticket"
   ]
  },
  {
   "cell_type": "code",
   "execution_count": 9,
   "id": "45cfcbeb",
   "metadata": {},
   "outputs": [],
   "source": [
    "def editTicket(issue, summary, description, priority, jiraUserAssignee):\n",
    "    issue_dict = {\n",
    "        'summary': summary,\n",
    "        'description': description, #'Update description',\n",
    "        'priority':{'name':priority},\n",
    "        'assignee': {'accountId':jiraUserAssignee},\n",
    "    }\n",
    "    return issue.update(fields=issue_dict)"
   ]
  },
  {
   "cell_type": "code",
   "execution_count": 10,
   "id": "3141f1fd",
   "metadata": {},
   "outputs": [],
   "source": [
    "def editTicketPriority(issue, priority, jiraUserAssignee):\n",
    "    issue_dict = {\n",
    "        'priority':{'name':priority},\n",
    "    }\n",
    "    return issue.update(fields=issue_dict)"
   ]
  },
  {
   "cell_type": "code",
   "execution_count": 11,
   "id": "2f0623e1",
   "metadata": {},
   "outputs": [],
   "source": [
    "def addIssueToEPIC(issue, epicIDName):\n",
    "    issue_dict = {\n",
    "        \"parent\":{\"key\":epicIDName}\n",
    "\n",
    "    }\n",
    "    return issue.update(fields=issue_dict)"
   ]
  },
  {
   "cell_type": "markdown",
   "id": "86836844",
   "metadata": {},
   "source": [
    "# Add all CSV items as a ticket"
   ]
  },
  {
   "cell_type": "code",
   "execution_count": 12,
   "id": "4dc666e1",
   "metadata": {},
   "outputs": [
    {
     "data": {
      "text/html": [
       "<div>\n",
       "<style scoped>\n",
       "    .dataframe tbody tr th:only-of-type {\n",
       "        vertical-align: middle;\n",
       "    }\n",
       "\n",
       "    .dataframe tbody tr th {\n",
       "        vertical-align: top;\n",
       "    }\n",
       "\n",
       "    .dataframe thead th {\n",
       "        text-align: right;\n",
       "    }\n",
       "</style>\n",
       "<table border=\"1\" class=\"dataframe\">\n",
       "  <thead>\n",
       "    <tr style=\"text-align: right;\">\n",
       "      <th></th>\n",
       "      <th>Summary</th>\n",
       "      <th>Description</th>\n",
       "      <th>Priority</th>\n",
       "    </tr>\n",
       "  </thead>\n",
       "  <tbody>\n",
       "    <tr>\n",
       "      <th>0</th>\n",
       "      <td>Test ticket 1</td>\n",
       "      <td>Description 1</td>\n",
       "      <td>Low</td>\n",
       "    </tr>\n",
       "    <tr>\n",
       "      <th>1</th>\n",
       "      <td>Test ticket 2</td>\n",
       "      <td>Description 2</td>\n",
       "      <td>Medium</td>\n",
       "    </tr>\n",
       "    <tr>\n",
       "      <th>2</th>\n",
       "      <td>Test ticket 3</td>\n",
       "      <td>Description 3</td>\n",
       "      <td>High</td>\n",
       "    </tr>\n",
       "  </tbody>\n",
       "</table>\n",
       "</div>"
      ],
      "text/plain": [
       "         Summary    Description Priority\n",
       "0  Test ticket 1  Description 1      Low\n",
       "1  Test ticket 2  Description 2   Medium\n",
       "2  Test ticket 3  Description 3     High"
      ]
     },
     "metadata": {},
     "output_type": "display_data"
    }
   ],
   "source": [
    "#Import CSV into a pandas data frame\n",
    "df = pandas.read_csv('jira_ticket_data.csv',delimiter=';')\n",
    "\n",
    "display(df)"
   ]
  },
  {
   "cell_type": "code",
   "execution_count": 13,
   "id": "a3c40e5b",
   "metadata": {},
   "outputs": [
    {
     "name": "stdout",
     "output_type": "stream",
     "text": [
      "Test ticket 1\n",
      "Description 1\n",
      "Low\n"
     ]
    }
   ],
   "source": [
    "print(df.iloc[0][\"Summary\"])\n",
    "print(df.iloc[0][\"Description\"])\n",
    "print(df.iloc[0][\"Priority\"])"
   ]
  },
  {
   "cell_type": "code",
   "execution_count": 14,
   "id": "0da964c3",
   "metadata": {},
   "outputs": [
    {
     "name": "stdout",
     "output_type": "stream",
     "text": [
      "Ticket creation result:  DEV-21\n",
      "=========================\n",
      "Ticket creation result:  DEV-22\n",
      "=========================\n",
      "Ticket creation result:  DEV-23\n",
      "=========================\n"
     ]
    }
   ],
   "source": [
    "#Loop to add all tickets\n",
    "for item in range(0,len(df)):\n",
    "    new_issue_created = createJiraTicket(df.iloc[item][\"Description\"], df.iloc[item][\"Summary\"])\n",
    "    print(\"Ticket creation result: \", new_issue_created)\n",
    "    resultTicketEditing = editTicketPriority(new_issue_created, df.iloc[item][\"Priority\"], jiraUserAssignee)\n",
    "    print(\"=========================\")\n",
    "    "
   ]
  }
 ],
 "metadata": {
  "kernelspec": {
   "display_name": "Python 3 (ipykernel)",
   "language": "python",
   "name": "python3"
  },
  "language_info": {
   "codemirror_mode": {
    "name": "ipython",
    "version": 3
   },
   "file_extension": ".py",
   "mimetype": "text/x-python",
   "name": "python",
   "nbconvert_exporter": "python",
   "pygments_lexer": "ipython3",
   "version": "3.10.2"
  }
 },
 "nbformat": 4,
 "nbformat_minor": 5
}
